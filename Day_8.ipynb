{
  "nbformat": 4,
  "nbformat_minor": 0,
  "metadata": {
    "colab": {
      "name": "Day-8.ipynb",
      "provenance": [],
      "collapsed_sections": []
    },
    "kernelspec": {
      "name": "python3",
      "display_name": "Python 3"
    }
  },
  "cells": [
    {
      "cell_type": "markdown",
      "metadata": {
        "id": "xLTf1Plo8TTo",
        "colab_type": "text"
      },
      "source": [
        "Write a decorator function "
      ]
    },
    {
      "cell_type": "code",
      "metadata": {
        "id": "eZBeWoGl8TjM",
        "colab_type": "code",
        "colab": {
          "base_uri": "https://localhost:8080/",
          "height": 34
        },
        "outputId": "43b1bc2b-1280-436b-aabf-7dd06741035a"
      },
      "source": [
        "def division(a,b):\n",
        "    print(a/b)\n",
        "\n",
        "def div_division(func):\n",
        "    def inner(a,b):\n",
        "        if a<b:\n",
        "            a,b = b,a\n",
        "        return func(a,b)\n",
        "    return inner\n",
        "division1= div_division(division)\n",
        "division1(2,4)"
      ],
      "execution_count": 1,
      "outputs": [
        {
          "output_type": "stream",
          "text": [
            "2.0\n"
          ],
          "name": "stdout"
        }
      ]
    },
    {
      "cell_type": "markdown",
      "metadata": {
        "id": "y1peKS1-8TzW",
        "colab_type": "text"
      },
      "source": [
        "Python program to open a file in read only mode and try writing to it and handle the subsequent errors using Exception Handling"
      ]
    },
    {
      "cell_type": "code",
      "metadata": {
        "id": "ZU0YS26c8UA_",
        "colab_type": "code",
        "colab": {
          "base_uri": "https://localhost:8080/",
          "height": 50
        },
        "outputId": "71888f76-c859-4266-91c8-3ed24e004e40"
      },
      "source": [
        "try :\n",
        "    file = open(\"pythonEssential.txt\",\"r\")\n",
        "    file.write(\"Hello\")\n",
        "    file.close()\n",
        "    print(\"Success\")\n",
        "except Exception as e:\n",
        "    print(e)\n",
        "finally:\n",
        "    print(\"It can read the file but it will not be able to write\")\n"
      ],
      "execution_count": null,
      "outputs": [
        {
          "output_type": "stream",
          "text": [
            "not writable\n",
            "It can read the file but it will not be able to write\n"
          ],
          "name": "stdout"
        }
      ]
    }
  ]
}