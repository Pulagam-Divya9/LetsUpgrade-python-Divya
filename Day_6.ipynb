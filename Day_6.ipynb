{
  "nbformat": 4,
  "nbformat_minor": 0,
  "metadata": {
    "colab": {
      "name": "Day-6.ipynb",
      "provenance": [],
      "collapsed_sections": []
    },
    "kernelspec": {
      "name": "python3",
      "display_name": "Python 3"
    }
  },
  "cells": [
    {
      "cell_type": "markdown",
      "metadata": {
        "id": "jS2ZmnUFgE5N",
        "colab_type": "text"
      },
      "source": [
        "create a bank account class that has two attributes \n",
        "\n",
        "Deposite and withdraw, withdrawls may not exceed the available balance"
      ]
    },
    {
      "cell_type": "code",
      "metadata": {
        "id": "-uS42RNxgGZ8",
        "colab_type": "code",
        "colab": {
          "base_uri": "https://localhost:8080/",
          "height": 210
        },
        "outputId": "1201794b-4138-4b4c-a723-1f59bcfb9983"
      },
      "source": [
        "class Bank_Account:\n",
        "    def __init__(self):\n",
        "        self.balance = 0\n",
        "    def deposit(self):\n",
        "        amount = float(input(\"Enter amount to be Deposited: \"))\n",
        "        self.balance += amount\n",
        "        print(\"\\n Amount Deposited:\", amount)\n",
        "    def withdraw(self):\n",
        "        amount = float(input(\"Enter amount to be Withdrawn: \"))\n",
        "        if self.balance >= amount:\n",
        "            self.balance -= amount\n",
        "            print(\"\\n You Withdrew:\", amount)\n",
        "        else:\n",
        "            print(\"\\n Insufficient balance  \")\n",
        "    def display(self):\n",
        "        print(\"\\n Net Available Balance=\", self.balance)\n",
        "s = Bank_Account()\n",
        "s.deposit()\n",
        "s.withdraw()\n",
        "s.withdraw()\n",
        "s.display()"
      ],
      "execution_count": 5,
      "outputs": [
        {
          "output_type": "stream",
          "text": [
            "Enter amount to be Deposited: 5000\n",
            "\n",
            " Amount Deposited: 5000.0\n",
            "Enter amount to be Withdrawn: 2500\n",
            "\n",
            " You Withdrew: 2500.0\n",
            "Enter amount to be Withdrawn: 3000\n",
            "\n",
            " Insufficient balance  \n",
            "\n",
            " Net Available Balance= 2500.0\n"
          ],
          "name": "stdout"
        }
      ]
    },
    {
      "cell_type": "markdown",
      "metadata": {
        "id": "MXBte80igGpQ",
        "colab_type": "text"
      },
      "source": [
        "Create a cone class that has two attributes in python\n",
        "\n",
        "To find surface area and volume of cone"
      ]
    },
    {
      "cell_type": "code",
      "metadata": {
        "id": "yasQTF0RgG3H",
        "colab_type": "code",
        "colab": {}
      },
      "source": [
        "import math\n",
        "class cone():\n",
        "    def __init__(self,radius,height):\n",
        "        self.radius = radius\n",
        "        self.height = height\n",
        "    def surfaceArea(self):\n",
        "        return  math.pi *self.radius * (self.radius + math.sqrt((self.radius **2) + (self.height **2)))\n",
        "    def volume(self):\n",
        "        return (1.0/3) * math.pi * (self.radius **2) * self.height\n",
        "r = int(input(\"enter radius of cone :\"))\n",
        "h = int(input(\"enter height of cone :\"))\n",
        "obj = cone(r,h)\n",
        "print(\"Surfacearea of cone :\",round(obj.surfaceArea(),2))\n",
        "print(\"Volume of cone:\",round(obj.volume(),2))"
      ],
      "execution_count": null,
      "outputs": []
    }
  ]
}