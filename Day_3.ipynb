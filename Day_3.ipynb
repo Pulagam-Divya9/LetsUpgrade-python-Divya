{
  "nbformat": 4,
  "nbformat_minor": 0,
  "metadata": {
    "colab": {
      "name": "Day-3",
      "provenance": [],
      "collapsed_sections": []
    },
    "kernelspec": {
      "name": "python3",
      "display_name": "Python 3"
    }
  },
  "cells": [
    {
      "cell_type": "markdown",
      "metadata": {
        "id": "ZO99o_8KplLT",
        "colab_type": "text"
      },
      "source": [
        "You all are Pilots, you want to land a plane safely, so altitude required for landing a plane is 1000ft, if it is less than tell pilot to land the plane, or it is more than that but less than 5000ft ask the pilot to \"come down to 1000ft\", else if it more than 5000ft ask the pilot to \"go around and try later\""
      ]
    },
    {
      "cell_type": "code",
      "metadata": {
        "id": "KbqzvHYdqSS8",
        "colab_type": "code",
        "colab": {
          "base_uri": "https://localhost:8080/",
          "height": 52
        },
        "outputId": "962bdc36-9055-455c-b03c-6a0ff8631797"
      },
      "source": [
        "# Land plain safely\n",
        "# input value\n",
        "a = int(input(\"Enter height of plane :\"))\n",
        "if a<=1000:\n",
        "    print(\"Safe to land\")\n",
        "elif a <= 4500:\n",
        "    print(\"Bring down to 1000\")\n",
        "else:\n",
        "    print(\"Turn around\")"
      ],
      "execution_count": 1,
      "outputs": [
        {
          "output_type": "stream",
          "text": [
            "Enter height of plane :1000\n",
            "Safe to land\n"
          ],
          "name": "stdout"
        }
      ]
    },
    {
      "cell_type": "markdown",
      "metadata": {
        "id": "drKb_aBHqe3A",
        "colab_type": "text"
      },
      "source": [
        "Using for loop please print all the prime numbers between 1-200 using FOR LOOP AND RANGE function"
      ]
    },
    {
      "cell_type": "code",
      "metadata": {
        "id": "RjmM_XYHqtJO",
        "colab_type": "code",
        "colab": {
          "base_uri": "https://localhost:8080/",
          "height": 826
        },
        "outputId": "f3f0b92a-2bce-4c55-b48f-5eca5f1ce8d3"
      },
      "source": [
        "#Prime numbers between 1-200\n",
        "for i in range(1,200):\n",
        "  if i > 1:\n",
        "    for j in range(2, i):\n",
        "        if (i % j == 0):\n",
        "            break\n",
        "    else:\n",
        "        print(i)"
      ],
      "execution_count": 5,
      "outputs": [
        {
          "output_type": "stream",
          "text": [
            "2\n",
            "3\n",
            "5\n",
            "7\n",
            "11\n",
            "13\n",
            "17\n",
            "19\n",
            "23\n",
            "29\n",
            "31\n",
            "37\n",
            "41\n",
            "43\n",
            "47\n",
            "53\n",
            "59\n",
            "61\n",
            "67\n",
            "71\n",
            "73\n",
            "79\n",
            "83\n",
            "89\n",
            "97\n",
            "101\n",
            "103\n",
            "107\n",
            "109\n",
            "113\n",
            "127\n",
            "131\n",
            "137\n",
            "139\n",
            "149\n",
            "151\n",
            "157\n",
            "163\n",
            "167\n",
            "173\n",
            "179\n",
            "181\n",
            "191\n",
            "193\n",
            "197\n",
            "199\n"
          ],
          "name": "stdout"
        }
      ]
    }
  ]
}