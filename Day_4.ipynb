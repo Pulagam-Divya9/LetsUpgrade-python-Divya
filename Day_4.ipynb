{
  "nbformat": 4,
  "nbformat_minor": 0,
  "metadata": {
    "colab": {
      "name": "Day-4",
      "provenance": [],
      "collapsed_sections": []
    },
    "kernelspec": {
      "name": "python3",
      "display_name": "Python 3"
    }
  },
  "cells": [
    {
      "cell_type": "markdown",
      "metadata": {
        "id": "zZAhpw4JBKKO",
        "colab_type": "text"
      },
      "source": [
        "Print the first ArmStrong number in the range of 1042000 to 702648265 and exit loop as you encounter the first armstrong number"
      ]
    },
    {
      "cell_type": "code",
      "metadata": {
        "id": "M_0SRz5pBKaY",
        "colab_type": "code",
        "colab": {
          "base_uri": "https://localhost:8080/",
          "height": 34
        },
        "outputId": "c6411c81-9b36-4a6c-e357-c71aa467b4b6"
      },
      "source": [
        "lower = 1042000\n",
        "upper = 702648265\n",
        "\n",
        "for num in range(lower, upper + 1):\n",
        "\n",
        "    # order of number\n",
        "    order = len(str(num))\n",
        "\n",
        "    # initialize sum\n",
        "    sum = 0\n",
        "\n",
        "    temp = num\n",
        "    while temp > 0:\n",
        "        digit = temp % 10\n",
        "        sum += digit ** order\n",
        "        temp //= 10\n",
        "    if num == sum:\n",
        "        print(num)\n",
        "        break"
      ],
      "execution_count": 1,
      "outputs": [
        {
          "output_type": "stream",
          "text": [
            "1741725\n"
          ],
          "name": "stdout"
        }
      ]
    }
  ]
}