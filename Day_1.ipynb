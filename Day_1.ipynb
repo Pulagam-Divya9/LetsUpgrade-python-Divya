{
  "nbformat": 4,
  "nbformat_minor": 0,
  "metadata": {
    "colab": {
      "name": "Day 1",
      "provenance": [],
      "collapsed_sections": [],
      "toc_visible": true,
      "authorship_tag": "ABX9TyNwFggj6RIExpy10is5q28x",
      "include_colab_link": true
    },
    "kernelspec": {
      "name": "python3",
      "display_name": "Python 3"
    }
  },
  "cells": [
    {
      "cell_type": "markdown",
      "metadata": {
        "id": "view-in-github",
        "colab_type": "text"
      },
      "source": [
        "<a href=\"https://colab.research.google.com/github/Pulagam-Divya9/LetsUpgrade-python-Divya/blob/master/Day_1.ipynb\" target=\"_parent\"><img src=\"https://colab.research.google.com/assets/colab-badge.svg\" alt=\"Open In Colab\"/></a>"
      ]
    },
    {
      "cell_type": "markdown",
      "metadata": {
        "id": "KxsZoAP6TRja",
        "colab_type": "text"
      },
      "source": [
        "**List**"
      ]
    },
    {
      "cell_type": "markdown",
      "metadata": {
        "id": "cr-erDSKTdXA",
        "colab_type": "text"
      },
      "source": [
        "List:\n",
        "List function which creates a collection that can be manipulated for your analysis. This collection of data is called a list object."
      ]
    },
    {
      "cell_type": "markdown",
      "metadata": {
        "id": "2pOE68N0UO4M",
        "colab_type": "text"
      },
      "source": [
        "sort(): Sorts the list in ascending order.\n"
      ]
    },
    {
      "cell_type": "code",
      "metadata": {
        "id": "v2RCWyfuUW_S",
        "colab_type": "code",
        "colab": {
          "base_uri": "https://localhost:8080/",
          "height": 34
        },
        "outputId": "04b58534-c22d-457b-a7b3-3e59282ee289"
      },
      "source": [
        "list = [1,5,3,2,5,8]\n",
        "list.sort()\n",
        "print(list)"
      ],
      "execution_count": 7,
      "outputs": [
        {
          "output_type": "stream",
          "text": [
            "[1, 2, 3, 5, 5, 8]\n"
          ],
          "name": "stdout"
        }
      ]
    },
    {
      "cell_type": "markdown",
      "metadata": {
        "id": "3K-40AMKV2h5",
        "colab_type": "text"
      },
      "source": [
        "type(list): It returns the class type of an object."
      ]
    },
    {
      "cell_type": "code",
      "metadata": {
        "id": "HAC9znsKV-Gk",
        "colab_type": "code",
        "colab": {
          "base_uri": "https://localhost:8080/",
          "height": 52
        },
        "outputId": "eeab1dba-03e3-4381-e9d5-a9fc7c346fbf"
      },
      "source": [
        "list = [1,5,3,2,5,8]\n",
        "print(list)\n",
        "print(type(list))\n"
      ],
      "execution_count": 8,
      "outputs": [
        {
          "output_type": "stream",
          "text": [
            "[1, 5, 3, 2, 5, 8]\n",
            "<class 'list'>\n"
          ],
          "name": "stdout"
        }
      ]
    },
    {
      "cell_type": "markdown",
      "metadata": {
        "id": "fzZ_gA90WVoj",
        "colab_type": "text"
      },
      "source": [
        "append(): Adds a single element to a list."
      ]
    },
    {
      "cell_type": "code",
      "metadata": {
        "id": "sSt4URsBWZbW",
        "colab_type": "code",
        "colab": {
          "base_uri": "https://localhost:8080/",
          "height": 34
        },
        "outputId": "a4933aa1-91d9-4513-fc59-7938d6fbea39"
      },
      "source": [
        "list = [1,5,3,2,5,8]\n",
        "list.append(10)\n",
        "print(list)"
      ],
      "execution_count": 9,
      "outputs": [
        {
          "output_type": "stream",
          "text": [
            "[1, 5, 3, 2, 5, 8, 10]\n"
          ],
          "name": "stdout"
        }
      ]
    },
    {
      "cell_type": "markdown",
      "metadata": {
        "id": "HhnFSxsHWpG8",
        "colab_type": "text"
      },
      "source": [
        " extend(): Adds multiple elements to a list."
      ]
    },
    {
      "cell_type": "code",
      "metadata": {
        "id": "8DqneR4yWu83",
        "colab_type": "code",
        "colab": {
          "base_uri": "https://localhost:8080/",
          "height": 34
        },
        "outputId": "1c834411-e079-4542-b89e-c3445fbd8309"
      },
      "source": [
        "list = [1,5,3,2,5,8]\n",
        "list.extend(\"a\")\n",
        "print(list)"
      ],
      "execution_count": 10,
      "outputs": [
        {
          "output_type": "stream",
          "text": [
            "[1, 5, 3, 2, 5, 8, 'a']\n"
          ],
          "name": "stdout"
        }
      ]
    },
    {
      "cell_type": "markdown",
      "metadata": {
        "id": "yWemIF-VXFEL",
        "colab_type": "text"
      },
      "source": [
        " index(): Returns the first appearance of the specified value."
      ]
    },
    {
      "cell_type": "code",
      "metadata": {
        "id": "voVoEc88XGxz",
        "colab_type": "code",
        "colab": {
          "base_uri": "https://localhost:8080/",
          "height": 34
        },
        "outputId": "ba224fdf-cfe6-4552-a5b8-514262238759"
      },
      "source": [
        "list = [1,5,3,2,5,8]\n",
        "list1 = list.index(2)\n",
        "print(list1)"
      ],
      "execution_count": 11,
      "outputs": [
        {
          "output_type": "stream",
          "text": [
            "3\n"
          ],
          "name": "stdout"
        }
      ]
    },
    {
      "cell_type": "markdown",
      "metadata": {
        "id": "ZdKgGxBoX4g5",
        "colab_type": "text"
      },
      "source": [
        "max(list): It returns an item from the list with max value."
      ]
    },
    {
      "cell_type": "code",
      "metadata": {
        "id": "TKkckuzUYjWO",
        "colab_type": "code",
        "colab": {
          "base_uri": "https://localhost:8080/",
          "height": 34
        },
        "outputId": "b6f0e9bb-ada1-4154-d20d-cdeac8dd4a7a"
      },
      "source": [
        "list = [1,5,3,2,5,8]\n",
        "print(max(list))"
      ],
      "execution_count": 12,
      "outputs": [
        {
          "output_type": "stream",
          "text": [
            "8\n"
          ],
          "name": "stdout"
        }
      ]
    },
    {
      "cell_type": "markdown",
      "metadata": {
        "id": "RgvE9eBJY2tn",
        "colab_type": "text"
      },
      "source": [
        "len(list): It gives the total length of the list."
      ]
    },
    {
      "cell_type": "code",
      "metadata": {
        "id": "ZNL3LOuaY33X",
        "colab_type": "code",
        "colab": {
          "base_uri": "https://localhost:8080/",
          "height": 34
        },
        "outputId": "5d1a7a1c-02a8-4e7d-fd29-3bf54b5b481e"
      },
      "source": [
        "list = [1,5,3,2,5,8]\n",
        "print(len(list))"
      ],
      "execution_count": 14,
      "outputs": [
        {
          "output_type": "stream",
          "text": [
            "6\n"
          ],
          "name": "stdout"
        }
      ]
    },
    {
      "cell_type": "markdown",
      "metadata": {
        "id": "C7809cazZWfh",
        "colab_type": "text"
      },
      "source": [
        "**Dictionary**"
      ]
    },
    {
      "cell_type": "markdown",
      "metadata": {
        "id": "YR_qX6gPcdxK",
        "colab_type": "text"
      },
      "source": [
        "A dictionary is a collection which is unordered, changeable and indexed."
      ]
    },
    {
      "cell_type": "markdown",
      "metadata": {
        "id": "b2Dubm-xcf2S",
        "colab_type": "text"
      },
      "source": [
        "clear():\tRemoves all the elements from the dictionary"
      ]
    },
    {
      "cell_type": "code",
      "metadata": {
        "id": "HCSAyozLZjZx",
        "colab_type": "code",
        "colab": {
          "base_uri": "https://localhost:8080/",
          "height": 34
        },
        "outputId": "86e70e72-a351-4dff-8553-831f5e83e372"
      },
      "source": [
        "dict = {1:\"aaa\",2:\"bbb\",3:\"ccc\"}\n",
        "dict.clear()\n",
        "print(dict)"
      ],
      "execution_count": 15,
      "outputs": [
        {
          "output_type": "stream",
          "text": [
            "{}\n"
          ],
          "name": "stdout"
        }
      ]
    },
    {
      "cell_type": "markdown",
      "metadata": {
        "id": "IN1b66FbdWZC",
        "colab_type": "text"
      },
      "source": [
        "copy():\tReturns a copy of the dictionary"
      ]
    },
    {
      "cell_type": "code",
      "metadata": {
        "id": "TAm_3RdadWtZ",
        "colab_type": "code",
        "colab": {
          "base_uri": "https://localhost:8080/",
          "height": 52
        },
        "outputId": "5de4d681-5ce7-46d1-879f-450d4ee9efd9"
      },
      "source": [
        "dict = {1:\"aaa\",2:\"bbb\",3:\"ccc\"}\n",
        "x = dict.copy()\n",
        "print(x)"
      ],
      "execution_count": 17,
      "outputs": [
        {
          "output_type": "stream",
          "text": [
            "{1: 'aaa', 2: 'bbb', 3: 'ccc'}\n",
            "{1: 'aaa', 2: 'bbb', 3: 'ccc'}\n"
          ],
          "name": "stdout"
        }
      ]
    },
    {
      "cell_type": "markdown",
      "metadata": {
        "id": "78LKTI8zd1Yz",
        "colab_type": "text"
      },
      "source": [
        "get():\tReturns the value of the specified key"
      ]
    },
    {
      "cell_type": "code",
      "metadata": {
        "id": "62kI4gvSd1o3",
        "colab_type": "code",
        "colab": {
          "base_uri": "https://localhost:8080/",
          "height": 34
        },
        "outputId": "94081fd4-136a-41c5-817d-986eada6bb0a"
      },
      "source": [
        "dict = {1:\"aaa\",2:\"bbb\",3:\"ccc\"}\n",
        "x = dict.get(2)\n",
        "print(x)"
      ],
      "execution_count": 18,
      "outputs": [
        {
          "output_type": "stream",
          "text": [
            "bbb\n"
          ],
          "name": "stdout"
        }
      ]
    },
    {
      "cell_type": "markdown",
      "metadata": {
        "id": "m3FS-p6neHEf",
        "colab_type": "text"
      },
      "source": [
        "update():\tUpdates the dictionary with the specified key-value pairs"
      ]
    },
    {
      "cell_type": "code",
      "metadata": {
        "id": "9dr9vAJTeHTe",
        "colab_type": "code",
        "colab": {
          "base_uri": "https://localhost:8080/",
          "height": 34
        },
        "outputId": "ccd8cadc-17c9-4e24-9963-32a468ec394e"
      },
      "source": [
        "dict = {1:\"aaa\",2:\"bbb\",3:\"ccc\"}\n",
        "dict.update({4:\"ddd\"})\n",
        "print(dict)"
      ],
      "execution_count": 20,
      "outputs": [
        {
          "output_type": "stream",
          "text": [
            "{1: 'aaa', 2: 'bbb', 3: 'ccc', 4: 'ddd'}\n"
          ],
          "name": "stdout"
        }
      ]
    },
    {
      "cell_type": "markdown",
      "metadata": {
        "id": "n5oXgi7wepAR",
        "colab_type": "text"
      },
      "source": [
        "**Tuple**"
      ]
    },
    {
      "cell_type": "markdown",
      "metadata": {
        "id": "LZdQF8sZe0OM",
        "colab_type": "text"
      },
      "source": [
        "A tuple is a collection which is ordered and unchangeable."
      ]
    },
    {
      "cell_type": "markdown",
      "metadata": {
        "id": "ro4_xQY3fCdV",
        "colab_type": "text"
      },
      "source": [
        "count()\tReturns the number of times a specified value occurs in a tuple"
      ]
    },
    {
      "cell_type": "code",
      "metadata": {
        "id": "C9Euo7fUfJDs",
        "colab_type": "code",
        "colab": {
          "base_uri": "https://localhost:8080/",
          "height": 34
        },
        "outputId": "33003512-69f4-49b1-dca9-3eb09993e582"
      },
      "source": [
        "tuple = (1, 3, 7, 8, 7, 5, 4, 6, 8, 5)\n",
        "\n",
        "x = tuple.count(5)\n",
        "\n",
        "print(x)"
      ],
      "execution_count": 21,
      "outputs": [
        {
          "output_type": "stream",
          "text": [
            "2\n"
          ],
          "name": "stdout"
        }
      ]
    },
    {
      "cell_type": "markdown",
      "metadata": {
        "id": "JQe8dVNtfVj2",
        "colab_type": "text"
      },
      "source": [
        "index()\tSearches the tuple for a specified value and returns the position of where it was found"
      ]
    },
    {
      "cell_type": "code",
      "metadata": {
        "id": "2rIkqrOBfaW_",
        "colab_type": "code",
        "colab": {
          "base_uri": "https://localhost:8080/",
          "height": 34
        },
        "outputId": "bbb9b601-54f9-4018-fb8e-296de880e634"
      },
      "source": [
        "tuple = (1, 3, 7, 8, 7, 5, 4, 6, 8, 5)\n",
        "\n",
        "x = tuple.index(8)\n",
        "\n",
        "print(x)"
      ],
      "execution_count": 22,
      "outputs": [
        {
          "output_type": "stream",
          "text": [
            "3\n"
          ],
          "name": "stdout"
        }
      ]
    },
    {
      "cell_type": "markdown",
      "metadata": {
        "id": "FNsK3UmUfuzD",
        "colab_type": "text"
      },
      "source": [
        "**Set**"
      ]
    },
    {
      "cell_type": "markdown",
      "metadata": {
        "id": "TGSlUsdbfvRk",
        "colab_type": "text"
      },
      "source": [
        "A set is a collection which is unordered and unindexed."
      ]
    },
    {
      "cell_type": "markdown",
      "metadata": {
        "id": "E77RFuiCfwGF",
        "colab_type": "text"
      },
      "source": [
        "add()\tAdds an element to the set"
      ]
    },
    {
      "cell_type": "code",
      "metadata": {
        "id": "jpcaQiCagSzi",
        "colab_type": "code",
        "colab": {
          "base_uri": "https://localhost:8080/",
          "height": 34
        },
        "outputId": "84fcd18f-f2c4-4f55-80e1-556e213b5e1e"
      },
      "source": [
        "set = {\"aaa\", \"bbb\", \"ccc\"}\n",
        "print(set)\n",
        "set.add(\"ddd\")\n",
        "print(set)"
      ],
      "execution_count": 25,
      "outputs": [
        {
          "output_type": "stream",
          "text": [
            "{'aaa', 'ccc'}\n"
          ],
          "name": "stdout"
        }
      ]
    },
    {
      "cell_type": "markdown",
      "metadata": {
        "id": "6tSnEk6QguLI",
        "colab_type": "text"
      },
      "source": [
        "pop()\tRemoves an element from the set"
      ]
    },
    {
      "cell_type": "code",
      "metadata": {
        "id": "XCy7febDgvEw",
        "colab_type": "code",
        "colab": {
          "base_uri": "https://localhost:8080/",
          "height": 34
        },
        "outputId": "673763fa-f83c-401d-9102-e0271e344f32"
      },
      "source": [
        "set = {\"aaa\", \"bbb\", \"ccc\"}\n",
        "set.pop()\n",
        "print(set)"
      ],
      "execution_count": 26,
      "outputs": [
        {
          "output_type": "stream",
          "text": [
            "{'aaa', 'ccc'}\n"
          ],
          "name": "stdout"
        }
      ]
    },
    {
      "cell_type": "markdown",
      "metadata": {
        "id": "4-Z7wmsChPDB",
        "colab_type": "text"
      },
      "source": [
        "union()\tReturn a set containing the union of sets"
      ]
    },
    {
      "cell_type": "code",
      "metadata": {
        "id": "EQDs6EJyhPRV",
        "colab_type": "code",
        "colab": {
          "base_uri": "https://localhost:8080/",
          "height": 34
        },
        "outputId": "435ebc80-3488-46ed-9898-adc689545f16"
      },
      "source": [
        "x = {\"aaa\", \"bbb\", \"ccc\"}\n",
        "y = {\"ddd\", \"eee\", \"fff\"}\n",
        "\n",
        "z = x.union(y) \n",
        "\n",
        "print(z)"
      ],
      "execution_count": 27,
      "outputs": [
        {
          "output_type": "stream",
          "text": [
            "{'ccc', 'bbb', 'aaa', 'ddd', 'eee', 'fff'}\n"
          ],
          "name": "stdout"
        }
      ]
    },
    {
      "cell_type": "markdown",
      "metadata": {
        "id": "f29h8cibjFqH",
        "colab_type": "text"
      },
      "source": [
        "**String**"
      ]
    },
    {
      "cell_type": "markdown",
      "metadata": {
        "id": "aln8bofrjIJE",
        "colab_type": "text"
      },
      "source": [
        "String is a collection of alphabets, words or other characters. It is one of the primitive data structures and are the building blocks for data manipulation. Python has a built-in string class named str."
      ]
    },
    {
      "cell_type": "markdown",
      "metadata": {
        "id": "D6ttVeW3jJae",
        "colab_type": "text"
      },
      "source": [
        "find()\tSearches the string for a specified value and returns the position of where it was found"
      ]
    },
    {
      "cell_type": "code",
      "metadata": {
        "id": "KL8CK0kxjRGL",
        "colab_type": "code",
        "colab": {
          "base_uri": "https://localhost:8080/",
          "height": 34
        },
        "outputId": "395b0b54-a670-49f9-8c6e-6c2b045041ee"
      },
      "source": [
        "txt = \"Hello, welcome to LetsUpgrade Python Essentials.\"\n",
        "\n",
        "x = txt.find(\"Python\")\n",
        "\n",
        "print(x)"
      ],
      "execution_count": 28,
      "outputs": [
        {
          "output_type": "stream",
          "text": [
            "30\n"
          ],
          "name": "stdout"
        }
      ]
    },
    {
      "cell_type": "markdown",
      "metadata": {
        "id": "MWDWhcTWjq1z",
        "colab_type": "text"
      },
      "source": [
        "upper()\tConverts a string into upper case"
      ]
    },
    {
      "cell_type": "code",
      "metadata": {
        "id": "6xLoTiGFjrc2",
        "colab_type": "code",
        "colab": {
          "base_uri": "https://localhost:8080/",
          "height": 34
        },
        "outputId": "26c93e6a-d250-4768-af35-adaf07b114d2"
      },
      "source": [
        "txt = \"Hello my World\"\n",
        "\n",
        "x = txt.upper()\n",
        "\n",
        "print(x)"
      ],
      "execution_count": 29,
      "outputs": [
        {
          "output_type": "stream",
          "text": [
            "HELLO MY WORLD\n"
          ],
          "name": "stdout"
        }
      ]
    }
  ]
}